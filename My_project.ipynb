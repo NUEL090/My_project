{
 "cells": [
  {
   "cell_type": "markdown",
   "id": "eaf1f25e-a496-4fd8-aaff-d0debc309aab",
   "metadata": {},
   "source": [
    "# My Jupyter Notebook on IBM Watson Studio"
   ]
  },
  {
   "cell_type": "markdown",
   "id": "f20af6ff-09aa-4b82-98d3-78fc307066ce",
   "metadata": {},
   "source": [
    "AGBAENYI ODINAKA EMMANUEL\n",
    "\n",
    "Data scientist"
   ]
  },
  {
   "cell_type": "markdown",
   "id": "dae799b2-f2e2-461c-8872-789066227255",
   "metadata": {},
   "source": [
    "_I am interested in data science because of it great application in medicine and medical diagnostics_ "
   ]
  },
  {
   "cell_type": "markdown",
   "id": "01281255-2ff5-4a59-ae63-96a4b35c05e6",
   "metadata": {},
   "source": [
    "### Perform a simple mathematical operation"
   ]
  },
  {
   "cell_type": "code",
   "execution_count": 1,
   "id": "94ccc9a9-6b30-4571-93a9-db9f635e89f5",
   "metadata": {},
   "outputs": [
    {
     "data": {
      "text/plain": [
       "80"
      ]
     },
     "execution_count": 1,
     "metadata": {},
     "output_type": "execute_result"
    }
   ],
   "source": [
    "40+60-20"
   ]
  },
  {
   "cell_type": "markdown",
   "id": "e2c1cbaf-04cd-4748-80bb-6fbc42dd3873",
   "metadata": {},
   "source": [
    "_________"
   ]
  },
  {
   "cell_type": "markdown",
   "id": "f1f54170-1a91-43aa-9909-5f3fc678bf9e",
   "metadata": {},
   "source": [
    "- ONE\n",
    "- TWO\n",
    "- THREE"
   ]
  },
  {
   "cell_type": "markdown",
   "id": "69f8a303-42df-49c5-978a-4cf4c29dd737",
   "metadata": {},
   "source": [
    "|S/N | NAME|\n",
    "|---- | ----|\n",
    "|1 | Agbaenyi Odinaka Emmanuel|"
   ]
  }
 ],
 "metadata": {
  "kernelspec": {
   "display_name": "Python",
   "language": "python",
   "name": "conda-env-python-py"
  },
  "language_info": {
   "codemirror_mode": {
    "name": "ipython",
    "version": 3
   },
   "file_extension": ".py",
   "mimetype": "text/x-python",
   "name": "python",
   "nbconvert_exporter": "python",
   "pygments_lexer": "ipython3",
   "version": "3.7.12"
  }
 },
 "nbformat": 4,
 "nbformat_minor": 5
}
